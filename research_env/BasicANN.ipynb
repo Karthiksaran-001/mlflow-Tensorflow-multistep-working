{
 "cells": [
  {
   "cell_type": "markdown",
   "metadata": {
    "id": "eNQ5h1s2fMXn"
   },
   "source": [
    "# ANN Implemention\n",
    "**Admission Prediction DataSet**\n",
    "\n"
   ]
  },
  {
   "cell_type": "code",
   "execution_count": 16,
   "metadata": {
    "id": "9ffKKLVnfIK0"
   },
   "outputs": [],
   "source": [
    "import pandas as pd\n",
    "import numpy as np\n",
    "import matplotlib.pyplot as plt\n",
    "import tensorflow as tf\n",
    "\n",
    "import os"
   ]
  },
  {
   "cell_type": "code",
   "execution_count": 3,
   "metadata": {
    "colab": {
     "base_uri": "https://localhost:8080/",
     "height": 270
    },
    "id": "BOFDt8FfgC6l",
    "outputId": "97ac780d-22d8-49f9-8c01-4cc5a9f2c3de"
   },
   "outputs": [
    {
     "data": {
      "text/html": [
       "<div>\n",
       "<style scoped>\n",
       "    .dataframe tbody tr th:only-of-type {\n",
       "        vertical-align: middle;\n",
       "    }\n",
       "\n",
       "    .dataframe tbody tr th {\n",
       "        vertical-align: top;\n",
       "    }\n",
       "\n",
       "    .dataframe thead th {\n",
       "        text-align: right;\n",
       "    }\n",
       "</style>\n",
       "<table border=\"1\" class=\"dataframe\">\n",
       "  <thead>\n",
       "    <tr style=\"text-align: right;\">\n",
       "      <th></th>\n",
       "      <th>RowNumber</th>\n",
       "      <th>CustomerId</th>\n",
       "      <th>Surname</th>\n",
       "      <th>CreditScore</th>\n",
       "      <th>Geography</th>\n",
       "      <th>Gender</th>\n",
       "      <th>Age</th>\n",
       "      <th>Tenure</th>\n",
       "      <th>Balance</th>\n",
       "      <th>NumOfProducts</th>\n",
       "      <th>HasCrCard</th>\n",
       "      <th>IsActiveMember</th>\n",
       "      <th>EstimatedSalary</th>\n",
       "      <th>Exited</th>\n",
       "    </tr>\n",
       "  </thead>\n",
       "  <tbody>\n",
       "    <tr>\n",
       "      <th>0</th>\n",
       "      <td>1</td>\n",
       "      <td>15634602</td>\n",
       "      <td>Hargrave</td>\n",
       "      <td>619</td>\n",
       "      <td>France</td>\n",
       "      <td>Female</td>\n",
       "      <td>42</td>\n",
       "      <td>2</td>\n",
       "      <td>0.00</td>\n",
       "      <td>1</td>\n",
       "      <td>1</td>\n",
       "      <td>1</td>\n",
       "      <td>101348.88</td>\n",
       "      <td>1</td>\n",
       "    </tr>\n",
       "    <tr>\n",
       "      <th>1</th>\n",
       "      <td>2</td>\n",
       "      <td>15647311</td>\n",
       "      <td>Hill</td>\n",
       "      <td>608</td>\n",
       "      <td>Spain</td>\n",
       "      <td>Female</td>\n",
       "      <td>41</td>\n",
       "      <td>1</td>\n",
       "      <td>83807.86</td>\n",
       "      <td>1</td>\n",
       "      <td>0</td>\n",
       "      <td>1</td>\n",
       "      <td>112542.58</td>\n",
       "      <td>0</td>\n",
       "    </tr>\n",
       "    <tr>\n",
       "      <th>2</th>\n",
       "      <td>3</td>\n",
       "      <td>15619304</td>\n",
       "      <td>Onio</td>\n",
       "      <td>502</td>\n",
       "      <td>France</td>\n",
       "      <td>Female</td>\n",
       "      <td>42</td>\n",
       "      <td>8</td>\n",
       "      <td>159660.80</td>\n",
       "      <td>3</td>\n",
       "      <td>1</td>\n",
       "      <td>0</td>\n",
       "      <td>113931.57</td>\n",
       "      <td>1</td>\n",
       "    </tr>\n",
       "    <tr>\n",
       "      <th>3</th>\n",
       "      <td>4</td>\n",
       "      <td>15701354</td>\n",
       "      <td>Boni</td>\n",
       "      <td>699</td>\n",
       "      <td>France</td>\n",
       "      <td>Female</td>\n",
       "      <td>39</td>\n",
       "      <td>1</td>\n",
       "      <td>0.00</td>\n",
       "      <td>2</td>\n",
       "      <td>0</td>\n",
       "      <td>0</td>\n",
       "      <td>93826.63</td>\n",
       "      <td>0</td>\n",
       "    </tr>\n",
       "    <tr>\n",
       "      <th>4</th>\n",
       "      <td>5</td>\n",
       "      <td>15737888</td>\n",
       "      <td>Mitchell</td>\n",
       "      <td>850</td>\n",
       "      <td>Spain</td>\n",
       "      <td>Female</td>\n",
       "      <td>43</td>\n",
       "      <td>2</td>\n",
       "      <td>125510.82</td>\n",
       "      <td>1</td>\n",
       "      <td>1</td>\n",
       "      <td>1</td>\n",
       "      <td>79084.10</td>\n",
       "      <td>0</td>\n",
       "    </tr>\n",
       "  </tbody>\n",
       "</table>\n",
       "</div>"
      ],
      "text/plain": [
       "   RowNumber  CustomerId   Surname  CreditScore Geography  Gender  Age  \\\n",
       "0          1    15634602  Hargrave          619    France  Female   42   \n",
       "1          2    15647311      Hill          608     Spain  Female   41   \n",
       "2          3    15619304      Onio          502    France  Female   42   \n",
       "3          4    15701354      Boni          699    France  Female   39   \n",
       "4          5    15737888  Mitchell          850     Spain  Female   43   \n",
       "\n",
       "   Tenure    Balance  NumOfProducts  HasCrCard  IsActiveMember  \\\n",
       "0       2       0.00              1          1               1   \n",
       "1       1   83807.86              1          0               1   \n",
       "2       8  159660.80              3          1               0   \n",
       "3       1       0.00              2          0               0   \n",
       "4       2  125510.82              1          1               1   \n",
       "\n",
       "   EstimatedSalary  Exited  \n",
       "0        101348.88       1  \n",
       "1        112542.58       0  \n",
       "2        113931.57       1  \n",
       "3         93826.63       0  \n",
       "4         79084.10       0  "
      ]
     },
     "execution_count": 3,
     "metadata": {},
     "output_type": "execute_result"
    }
   ],
   "source": [
    "df = pd.read_csv(\"Churn_Modelling.csv\")\n",
    "df.head()"
   ]
  },
  {
   "cell_type": "code",
   "execution_count": 4,
   "metadata": {
    "colab": {
     "base_uri": "https://localhost:8080/"
    },
    "id": "xG_FvgIwg8Jg",
    "outputId": "88c94d62-0bed-454e-aa00-397034f3a72d"
   },
   "outputs": [
    {
     "data": {
      "text/plain": [
       "(10000, 14)"
      ]
     },
     "execution_count": 4,
     "metadata": {},
     "output_type": "execute_result"
    }
   ],
   "source": [
    "df.shape"
   ]
  },
  {
   "cell_type": "code",
   "execution_count": 5,
   "metadata": {
    "colab": {
     "base_uri": "https://localhost:8080/"
    },
    "id": "p1GrejcKgMYO",
    "outputId": "5ba610e2-72b1-4474-9767-f87d292ba38b"
   },
   "outputs": [
    {
     "data": {
      "text/plain": [
       "RowNumber          0\n",
       "CustomerId         0\n",
       "Surname            0\n",
       "CreditScore        0\n",
       "Geography          0\n",
       "Gender             0\n",
       "Age                0\n",
       "Tenure             0\n",
       "Balance            0\n",
       "NumOfProducts      0\n",
       "HasCrCard          0\n",
       "IsActiveMember     0\n",
       "EstimatedSalary    0\n",
       "Exited             0\n",
       "dtype: int64"
      ]
     },
     "execution_count": 5,
     "metadata": {},
     "output_type": "execute_result"
    }
   ],
   "source": [
    "df.isnull().sum()"
   ]
  },
  {
   "cell_type": "code",
   "execution_count": null,
   "metadata": {
    "id": "_2-sCavogQ_2"
   },
   "outputs": [],
   "source": [
    "df_main = df.dropna(axis = 0 , inplace=True)"
   ]
  },
  {
   "cell_type": "code",
   "execution_count": null,
   "metadata": {
    "colab": {
     "base_uri": "https://localhost:8080/"
    },
    "id": "h0wxZS5pgcbR",
    "outputId": "630805f0-42a4-4e1c-8896-ef6e08a3e7c6"
   },
   "outputs": [
    {
     "data": {
      "text/plain": [
       "RowNumber          0\n",
       "CustomerId         0\n",
       "Surname            0\n",
       "CreditScore        0\n",
       "Geography          0\n",
       "Gender             0\n",
       "Age                0\n",
       "Tenure             0\n",
       "Balance            0\n",
       "NumOfProducts      0\n",
       "HasCrCard          0\n",
       "IsActiveMember     0\n",
       "EstimatedSalary    0\n",
       "Exited             0\n",
       "dtype: int64"
      ]
     },
     "execution_count": 32,
     "metadata": {},
     "output_type": "execute_result"
    }
   ],
   "source": [
    "df.isnull().sum()"
   ]
  },
  {
   "cell_type": "code",
   "execution_count": null,
   "metadata": {
    "colab": {
     "base_uri": "https://localhost:8080/"
    },
    "id": "RgTUc_nVghmI",
    "outputId": "3e26225d-5e35-498c-84ca-a4b0a3d09409"
   },
   "outputs": [
    {
     "data": {
      "text/plain": [
       "(10000, 14)"
      ]
     },
     "execution_count": 33,
     "metadata": {},
     "output_type": "execute_result"
    }
   ],
   "source": [
    "df.shape"
   ]
  },
  {
   "cell_type": "code",
   "execution_count": null,
   "metadata": {
    "colab": {
     "base_uri": "https://localhost:8080/"
    },
    "id": "eUjb8IXDjXm4",
    "outputId": "dcd10b49-28a2-4179-a7e7-267995299451"
   },
   "outputs": [
    {
     "data": {
      "text/plain": [
       "Index(['RowNumber', 'CustomerId', 'Surname', 'CreditScore', 'Geography',\n",
       "       'Gender', 'Age', 'Tenure', 'Balance', 'NumOfProducts', 'HasCrCard',\n",
       "       'IsActiveMember', 'EstimatedSalary', 'Exited'],\n",
       "      dtype='object')"
      ]
     },
     "execution_count": 34,
     "metadata": {},
     "output_type": "execute_result"
    }
   ],
   "source": [
    "df.columns"
   ]
  },
  {
   "cell_type": "code",
   "execution_count": null,
   "metadata": {
    "colab": {
     "base_uri": "https://localhost:8080/",
     "height": 176
    },
    "id": "SqwOnPC-jhiT",
    "outputId": "e35c8bc2-513e-4f2e-9a77-de4fd14a73a5"
   },
   "outputs": [
    {
     "data": {
      "text/html": [
       "\n",
       "  <div id=\"df-c0c4a73b-574a-4d27-934c-0b72c124245e\">\n",
       "    <div class=\"colab-df-container\">\n",
       "      <div>\n",
       "<style scoped>\n",
       "    .dataframe tbody tr th:only-of-type {\n",
       "        vertical-align: middle;\n",
       "    }\n",
       "\n",
       "    .dataframe tbody tr th {\n",
       "        vertical-align: top;\n",
       "    }\n",
       "\n",
       "    .dataframe thead th {\n",
       "        text-align: right;\n",
       "    }\n",
       "</style>\n",
       "<table border=\"1\" class=\"dataframe\">\n",
       "  <thead>\n",
       "    <tr style=\"text-align: right;\">\n",
       "      <th></th>\n",
       "      <th>RowNumber</th>\n",
       "      <th>CustomerId</th>\n",
       "      <th>Surname</th>\n",
       "      <th>CreditScore</th>\n",
       "      <th>Geography</th>\n",
       "      <th>Gender</th>\n",
       "      <th>Age</th>\n",
       "      <th>Tenure</th>\n",
       "      <th>Balance</th>\n",
       "      <th>NumOfProducts</th>\n",
       "      <th>HasCrCard</th>\n",
       "      <th>IsActiveMember</th>\n",
       "      <th>EstimatedSalary</th>\n",
       "      <th>Exited</th>\n",
       "    </tr>\n",
       "  </thead>\n",
       "  <tbody>\n",
       "    <tr>\n",
       "      <th>0</th>\n",
       "      <td>1</td>\n",
       "      <td>15634602</td>\n",
       "      <td>Hargrave</td>\n",
       "      <td>619</td>\n",
       "      <td>France</td>\n",
       "      <td>Female</td>\n",
       "      <td>42</td>\n",
       "      <td>2</td>\n",
       "      <td>0.00</td>\n",
       "      <td>1</td>\n",
       "      <td>1</td>\n",
       "      <td>1</td>\n",
       "      <td>101348.88</td>\n",
       "      <td>1</td>\n",
       "    </tr>\n",
       "    <tr>\n",
       "      <th>1</th>\n",
       "      <td>2</td>\n",
       "      <td>15647311</td>\n",
       "      <td>Hill</td>\n",
       "      <td>608</td>\n",
       "      <td>Spain</td>\n",
       "      <td>Female</td>\n",
       "      <td>41</td>\n",
       "      <td>1</td>\n",
       "      <td>83807.86</td>\n",
       "      <td>1</td>\n",
       "      <td>0</td>\n",
       "      <td>1</td>\n",
       "      <td>112542.58</td>\n",
       "      <td>0</td>\n",
       "    </tr>\n",
       "  </tbody>\n",
       "</table>\n",
       "</div>\n",
       "      <button class=\"colab-df-convert\" onclick=\"convertToInteractive('df-c0c4a73b-574a-4d27-934c-0b72c124245e')\"\n",
       "              title=\"Convert this dataframe to an interactive table.\"\n",
       "              style=\"display:none;\">\n",
       "        \n",
       "  <svg xmlns=\"http://www.w3.org/2000/svg\" height=\"24px\"viewBox=\"0 0 24 24\"\n",
       "       width=\"24px\">\n",
       "    <path d=\"M0 0h24v24H0V0z\" fill=\"none\"/>\n",
       "    <path d=\"M18.56 5.44l.94 2.06.94-2.06 2.06-.94-2.06-.94-.94-2.06-.94 2.06-2.06.94zm-11 1L8.5 8.5l.94-2.06 2.06-.94-2.06-.94L8.5 2.5l-.94 2.06-2.06.94zm10 10l.94 2.06.94-2.06 2.06-.94-2.06-.94-.94-2.06-.94 2.06-2.06.94z\"/><path d=\"M17.41 7.96l-1.37-1.37c-.4-.4-.92-.59-1.43-.59-.52 0-1.04.2-1.43.59L10.3 9.45l-7.72 7.72c-.78.78-.78 2.05 0 2.83L4 21.41c.39.39.9.59 1.41.59.51 0 1.02-.2 1.41-.59l7.78-7.78 2.81-2.81c.8-.78.8-2.07 0-2.86zM5.41 20L4 18.59l7.72-7.72 1.47 1.35L5.41 20z\"/>\n",
       "  </svg>\n",
       "      </button>\n",
       "      \n",
       "  <style>\n",
       "    .colab-df-container {\n",
       "      display:flex;\n",
       "      flex-wrap:wrap;\n",
       "      gap: 12px;\n",
       "    }\n",
       "\n",
       "    .colab-df-convert {\n",
       "      background-color: #E8F0FE;\n",
       "      border: none;\n",
       "      border-radius: 50%;\n",
       "      cursor: pointer;\n",
       "      display: none;\n",
       "      fill: #1967D2;\n",
       "      height: 32px;\n",
       "      padding: 0 0 0 0;\n",
       "      width: 32px;\n",
       "    }\n",
       "\n",
       "    .colab-df-convert:hover {\n",
       "      background-color: #E2EBFA;\n",
       "      box-shadow: 0px 1px 2px rgba(60, 64, 67, 0.3), 0px 1px 3px 1px rgba(60, 64, 67, 0.15);\n",
       "      fill: #174EA6;\n",
       "    }\n",
       "\n",
       "    [theme=dark] .colab-df-convert {\n",
       "      background-color: #3B4455;\n",
       "      fill: #D2E3FC;\n",
       "    }\n",
       "\n",
       "    [theme=dark] .colab-df-convert:hover {\n",
       "      background-color: #434B5C;\n",
       "      box-shadow: 0px 1px 3px 1px rgba(0, 0, 0, 0.15);\n",
       "      filter: drop-shadow(0px 1px 2px rgba(0, 0, 0, 0.3));\n",
       "      fill: #FFFFFF;\n",
       "    }\n",
       "  </style>\n",
       "\n",
       "      <script>\n",
       "        const buttonEl =\n",
       "          document.querySelector('#df-c0c4a73b-574a-4d27-934c-0b72c124245e button.colab-df-convert');\n",
       "        buttonEl.style.display =\n",
       "          google.colab.kernel.accessAllowed ? 'block' : 'none';\n",
       "\n",
       "        async function convertToInteractive(key) {\n",
       "          const element = document.querySelector('#df-c0c4a73b-574a-4d27-934c-0b72c124245e');\n",
       "          const dataTable =\n",
       "            await google.colab.kernel.invokeFunction('convertToInteractive',\n",
       "                                                     [key], {});\n",
       "          if (!dataTable) return;\n",
       "\n",
       "          const docLinkHtml = 'Like what you see? Visit the ' +\n",
       "            '<a target=\"_blank\" href=https://colab.research.google.com/notebooks/data_table.ipynb>data table notebook</a>'\n",
       "            + ' to learn more about interactive tables.';\n",
       "          element.innerHTML = '';\n",
       "          dataTable['output_type'] = 'display_data';\n",
       "          await google.colab.output.renderOutput(dataTable, element);\n",
       "          const docLink = document.createElement('div');\n",
       "          docLink.innerHTML = docLinkHtml;\n",
       "          element.appendChild(docLink);\n",
       "        }\n",
       "      </script>\n",
       "    </div>\n",
       "  </div>\n",
       "  "
      ],
      "text/plain": [
       "   RowNumber  CustomerId   Surname  ...  IsActiveMember EstimatedSalary Exited\n",
       "0          1    15634602  Hargrave  ...               1       101348.88      1\n",
       "1          2    15647311      Hill  ...               1       112542.58      0\n",
       "\n",
       "[2 rows x 14 columns]"
      ]
     },
     "execution_count": 35,
     "metadata": {},
     "output_type": "execute_result"
    }
   ],
   "source": [
    "df.head(2)"
   ]
  },
  {
   "cell_type": "code",
   "execution_count": 6,
   "metadata": {
    "id": "H2yske2khEcR"
   },
   "outputs": [],
   "source": [
    "x = df.drop(['Geography','Gender' , 'Surname', 'Exited'],axis = 1)\n",
    "y = df[ 'Exited']"
   ]
  },
  {
   "cell_type": "code",
   "execution_count": null,
   "metadata": {
    "colab": {
     "base_uri": "https://localhost:8080/"
    },
    "id": "-VQUr3w6j5kQ",
    "outputId": "5275cc9b-44ce-49ae-f635-f111d8018263"
   },
   "outputs": [
    {
     "data": {
      "text/plain": [
       "{0, 1}"
      ]
     },
     "execution_count": 37,
     "metadata": {},
     "output_type": "execute_result"
    }
   ],
   "source": [
    "set(y)"
   ]
  },
  {
   "cell_type": "code",
   "execution_count": 8,
   "metadata": {
    "id": "MLcbfTlUhAOk"
   },
   "outputs": [],
   "source": [
    "from sklearn.preprocessing import StandardScaler"
   ]
  },
  {
   "cell_type": "code",
   "execution_count": 9,
   "metadata": {
    "id": "y8xtvNNwhg2M"
   },
   "outputs": [],
   "source": [
    "scalar = StandardScaler()"
   ]
  },
  {
   "cell_type": "code",
   "execution_count": 10,
   "metadata": {
    "colab": {
     "base_uri": "https://localhost:8080/"
    },
    "id": "6qfkWx0khlEn",
    "outputId": "b0941e65-1a25-414c-932f-5e5c933f2af5"
   },
   "outputs": [
    {
     "data": {
      "text/plain": [
       "array([[-1.73187761, -0.78321342, -0.32622142, ...,  0.64609167,\n",
       "         0.97024255,  0.02188649],\n",
       "       [-1.7315312 , -0.60653412, -0.44003595, ..., -1.54776799,\n",
       "         0.97024255,  0.21653375],\n",
       "       [-1.73118479, -0.99588476, -1.53679418, ...,  0.64609167,\n",
       "        -1.03067011,  0.2406869 ],\n",
       "       ...,\n",
       "       [ 1.73118479, -1.47928179,  0.60498839, ..., -1.54776799,\n",
       "         0.97024255, -1.00864308],\n",
       "       [ 1.7315312 , -0.11935577,  1.25683526, ...,  0.64609167,\n",
       "        -1.03067011, -0.12523071],\n",
       "       [ 1.73187761, -0.87055909,  1.46377078, ...,  0.64609167,\n",
       "        -1.03067011, -1.07636976]])"
      ]
     },
     "execution_count": 10,
     "metadata": {},
     "output_type": "execute_result"
    }
   ],
   "source": [
    "scale_value = scalar.fit_transform(x)\n",
    "scale_value"
   ]
  },
  {
   "cell_type": "code",
   "execution_count": 11,
   "metadata": {
    "id": "1edXUUaDhnpt"
   },
   "outputs": [],
   "source": [
    "df1 = pd.DataFrame(scale_value)\n",
    "df1.columns = x.columns"
   ]
  },
  {
   "cell_type": "code",
   "execution_count": 12,
   "metadata": {
    "colab": {
     "base_uri": "https://localhost:8080/",
     "height": 206
    },
    "id": "eBLoMTJAhr8X",
    "outputId": "3bcbb533-99c8-47fa-adda-92bf056a7205"
   },
   "outputs": [
    {
     "data": {
      "text/html": [
       "<div>\n",
       "<style scoped>\n",
       "    .dataframe tbody tr th:only-of-type {\n",
       "        vertical-align: middle;\n",
       "    }\n",
       "\n",
       "    .dataframe tbody tr th {\n",
       "        vertical-align: top;\n",
       "    }\n",
       "\n",
       "    .dataframe thead th {\n",
       "        text-align: right;\n",
       "    }\n",
       "</style>\n",
       "<table border=\"1\" class=\"dataframe\">\n",
       "  <thead>\n",
       "    <tr style=\"text-align: right;\">\n",
       "      <th></th>\n",
       "      <th>RowNumber</th>\n",
       "      <th>CustomerId</th>\n",
       "      <th>CreditScore</th>\n",
       "      <th>Age</th>\n",
       "      <th>Tenure</th>\n",
       "      <th>Balance</th>\n",
       "      <th>NumOfProducts</th>\n",
       "      <th>HasCrCard</th>\n",
       "      <th>IsActiveMember</th>\n",
       "      <th>EstimatedSalary</th>\n",
       "    </tr>\n",
       "  </thead>\n",
       "  <tbody>\n",
       "    <tr>\n",
       "      <th>0</th>\n",
       "      <td>-1.731878</td>\n",
       "      <td>-0.783213</td>\n",
       "      <td>-0.326221</td>\n",
       "      <td>0.293517</td>\n",
       "      <td>-1.041760</td>\n",
       "      <td>-1.225848</td>\n",
       "      <td>-0.911583</td>\n",
       "      <td>0.646092</td>\n",
       "      <td>0.970243</td>\n",
       "      <td>0.021886</td>\n",
       "    </tr>\n",
       "    <tr>\n",
       "      <th>1</th>\n",
       "      <td>-1.731531</td>\n",
       "      <td>-0.606534</td>\n",
       "      <td>-0.440036</td>\n",
       "      <td>0.198164</td>\n",
       "      <td>-1.387538</td>\n",
       "      <td>0.117350</td>\n",
       "      <td>-0.911583</td>\n",
       "      <td>-1.547768</td>\n",
       "      <td>0.970243</td>\n",
       "      <td>0.216534</td>\n",
       "    </tr>\n",
       "    <tr>\n",
       "      <th>2</th>\n",
       "      <td>-1.731185</td>\n",
       "      <td>-0.995885</td>\n",
       "      <td>-1.536794</td>\n",
       "      <td>0.293517</td>\n",
       "      <td>1.032908</td>\n",
       "      <td>1.333053</td>\n",
       "      <td>2.527057</td>\n",
       "      <td>0.646092</td>\n",
       "      <td>-1.030670</td>\n",
       "      <td>0.240687</td>\n",
       "    </tr>\n",
       "    <tr>\n",
       "      <th>3</th>\n",
       "      <td>-1.730838</td>\n",
       "      <td>0.144767</td>\n",
       "      <td>0.501521</td>\n",
       "      <td>0.007457</td>\n",
       "      <td>-1.387538</td>\n",
       "      <td>-1.225848</td>\n",
       "      <td>0.807737</td>\n",
       "      <td>-1.547768</td>\n",
       "      <td>-1.030670</td>\n",
       "      <td>-0.108918</td>\n",
       "    </tr>\n",
       "    <tr>\n",
       "      <th>4</th>\n",
       "      <td>-1.730492</td>\n",
       "      <td>0.652659</td>\n",
       "      <td>2.063884</td>\n",
       "      <td>0.388871</td>\n",
       "      <td>-1.041760</td>\n",
       "      <td>0.785728</td>\n",
       "      <td>-0.911583</td>\n",
       "      <td>0.646092</td>\n",
       "      <td>0.970243</td>\n",
       "      <td>-0.365276</td>\n",
       "    </tr>\n",
       "  </tbody>\n",
       "</table>\n",
       "</div>"
      ],
      "text/plain": [
       "   RowNumber  CustomerId  CreditScore       Age    Tenure   Balance  \\\n",
       "0  -1.731878   -0.783213    -0.326221  0.293517 -1.041760 -1.225848   \n",
       "1  -1.731531   -0.606534    -0.440036  0.198164 -1.387538  0.117350   \n",
       "2  -1.731185   -0.995885    -1.536794  0.293517  1.032908  1.333053   \n",
       "3  -1.730838    0.144767     0.501521  0.007457 -1.387538 -1.225848   \n",
       "4  -1.730492    0.652659     2.063884  0.388871 -1.041760  0.785728   \n",
       "\n",
       "   NumOfProducts  HasCrCard  IsActiveMember  EstimatedSalary  \n",
       "0      -0.911583   0.646092        0.970243         0.021886  \n",
       "1      -0.911583  -1.547768        0.970243         0.216534  \n",
       "2       2.527057   0.646092       -1.030670         0.240687  \n",
       "3       0.807737  -1.547768       -1.030670        -0.108918  \n",
       "4      -0.911583   0.646092        0.970243        -0.365276  "
      ]
     },
     "execution_count": 12,
     "metadata": {},
     "output_type": "execute_result"
    }
   ],
   "source": [
    "df1.head()"
   ]
  },
  {
   "cell_type": "code",
   "execution_count": 13,
   "metadata": {
    "id": "38KVviwTh7hK"
   },
   "outputs": [],
   "source": [
    "from sklearn.model_selection import train_test_split"
   ]
  },
  {
   "cell_type": "code",
   "execution_count": 14,
   "metadata": {
    "id": "P35IEIezhujB"
   },
   "outputs": [],
   "source": [
    "X_train, X_test, y_train, y_test = train_test_split(df1, y, test_size=0.15, random_state=22)"
   ]
  },
  {
   "cell_type": "code",
   "execution_count": 15,
   "metadata": {
    "colab": {
     "base_uri": "https://localhost:8080/"
    },
    "id": "krghFVCc8kD7",
    "outputId": "f0ef89e0-3b2f-446b-ba62-ebc5bac1f966"
   },
   "outputs": [
    {
     "data": {
      "text/plain": [
       "RowNumber          0.778557\n",
       "CustomerId        -0.385730\n",
       "CreditScore       -0.709052\n",
       "Age                0.102810\n",
       "Tenure            -0.695982\n",
       "Balance            0.539545\n",
       "NumOfProducts     -0.911583\n",
       "HasCrCard          0.646092\n",
       "IsActiveMember     0.970243\n",
       "EstimatedSalary    1.594005\n",
       "Name: 7247, dtype: float64"
      ]
     },
     "execution_count": 15,
     "metadata": {},
     "output_type": "execute_result"
    }
   ],
   "source": [
    "X_train.iloc[0] ## so there are 10 features so input shape is 10"
   ]
  },
  {
   "cell_type": "code",
   "execution_count": 16,
   "metadata": {
    "id": "OXDsXJ_ih6SP"
   },
   "outputs": [],
   "source": [
    "model = tf.keras.Sequential([\n",
    "                             tf.keras.layers.Dense(20 , input_shape=(10 ,) , activation=\"relu\" ),\n",
    "                            tf.keras.layers.Dense(215 , activation=\"relu\" ),\n",
    "                              tf.keras.layers.Dense(1 , activation=\"sigmoid\" )\n",
    "]\n",
    ")\n",
    "\n",
    "Losses =\"binary_crossentropy\"\n",
    "Optimizer = \"adam\"\n",
    "Metrics = [\"accuracy\"]\n",
    "model.compile(loss = Losses , optimizer = Optimizer , metrics = Metrics)\n",
    "\n"
   ]
  },
  {
   "cell_type": "code",
   "execution_count": 17,
   "metadata": {
    "colab": {
     "base_uri": "https://localhost:8080/"
    },
    "id": "zPG9VCyukkN4",
    "outputId": "70eb5e55-fe0e-4932-d84f-a57e7d2b6d95"
   },
   "outputs": [
    {
     "name": "stdout",
     "output_type": "stream",
     "text": [
      "Epoch 1/100\n",
      "266/266 [==============================] - 1s 2ms/step - loss: 0.4588 - accuracy: 0.8069\n",
      "Epoch 2/100\n",
      "266/266 [==============================] - 1s 2ms/step - loss: 0.3959 - accuracy: 0.8348\n",
      "Epoch 3/100\n",
      "266/266 [==============================] - 1s 2ms/step - loss: 0.3733 - accuracy: 0.8456\n",
      "Epoch 4/100\n",
      "266/266 [==============================] - 1s 2ms/step - loss: 0.3634 - accuracy: 0.8512\n",
      "Epoch 5/100\n",
      "266/266 [==============================] - 1s 2ms/step - loss: 0.3578 - accuracy: 0.8544\n",
      "Epoch 6/100\n",
      "266/266 [==============================] - 1s 2ms/step - loss: 0.3531 - accuracy: 0.8539\n",
      "Epoch 7/100\n",
      "266/266 [==============================] - 1s 2ms/step - loss: 0.3512 - accuracy: 0.8562\n",
      "Epoch 8/100\n",
      "266/266 [==============================] - 1s 2ms/step - loss: 0.3470 - accuracy: 0.8568\n",
      "Epoch 9/100\n",
      "266/266 [==============================] - 1s 2ms/step - loss: 0.3454 - accuracy: 0.8581\n",
      "Epoch 10/100\n",
      "266/266 [==============================] - 1s 2ms/step - loss: 0.3439 - accuracy: 0.8612\n",
      "Epoch 11/100\n",
      "266/266 [==============================] - 1s 2ms/step - loss: 0.3416 - accuracy: 0.8571\n",
      "Epoch 12/100\n",
      "266/266 [==============================] - 1s 2ms/step - loss: 0.3399 - accuracy: 0.8629\n",
      "Epoch 13/100\n",
      "266/266 [==============================] - 1s 2ms/step - loss: 0.3385 - accuracy: 0.8619\n",
      "Epoch 14/100\n",
      "266/266 [==============================] - 1s 2ms/step - loss: 0.3388 - accuracy: 0.8607\n",
      "Epoch 15/100\n",
      "266/266 [==============================] - 1s 2ms/step - loss: 0.3360 - accuracy: 0.8607\n",
      "Epoch 16/100\n",
      "266/266 [==============================] - 1s 2ms/step - loss: 0.3355 - accuracy: 0.8621\n",
      "Epoch 17/100\n",
      "266/266 [==============================] - 1s 2ms/step - loss: 0.3340 - accuracy: 0.8633\n",
      "Epoch 18/100\n",
      "266/266 [==============================] - 1s 2ms/step - loss: 0.3330 - accuracy: 0.8615\n",
      "Epoch 19/100\n",
      "266/266 [==============================] - 1s 2ms/step - loss: 0.3309 - accuracy: 0.8619\n",
      "Epoch 20/100\n",
      "266/266 [==============================] - 1s 2ms/step - loss: 0.3299 - accuracy: 0.8633\n",
      "Epoch 21/100\n",
      "266/266 [==============================] - 1s 2ms/step - loss: 0.3296 - accuracy: 0.8626\n",
      "Epoch 22/100\n",
      "266/266 [==============================] - 1s 2ms/step - loss: 0.3290 - accuracy: 0.8640\n",
      "Epoch 23/100\n",
      "266/266 [==============================] - 1s 2ms/step - loss: 0.3268 - accuracy: 0.8646\n",
      "Epoch 24/100\n",
      "266/266 [==============================] - 1s 2ms/step - loss: 0.3275 - accuracy: 0.8656\n",
      "Epoch 25/100\n",
      "266/266 [==============================] - 1s 2ms/step - loss: 0.3271 - accuracy: 0.8644\n",
      "Epoch 26/100\n",
      "266/266 [==============================] - 1s 2ms/step - loss: 0.3248 - accuracy: 0.8666\n",
      "Epoch 27/100\n",
      "266/266 [==============================] - 1s 2ms/step - loss: 0.3240 - accuracy: 0.8653\n",
      "Epoch 28/100\n",
      "266/266 [==============================] - 1s 2ms/step - loss: 0.3233 - accuracy: 0.8654\n",
      "Epoch 29/100\n",
      "266/266 [==============================] - 1s 2ms/step - loss: 0.3216 - accuracy: 0.8689\n",
      "Epoch 30/100\n",
      "266/266 [==============================] - 1s 2ms/step - loss: 0.3206 - accuracy: 0.8659\n",
      "Epoch 31/100\n",
      "266/266 [==============================] - 1s 2ms/step - loss: 0.3189 - accuracy: 0.8671\n",
      "Epoch 32/100\n",
      "266/266 [==============================] - 1s 2ms/step - loss: 0.3186 - accuracy: 0.8705\n",
      "Epoch 33/100\n",
      "266/266 [==============================] - 1s 2ms/step - loss: 0.3177 - accuracy: 0.8660\n",
      "Epoch 34/100\n",
      "266/266 [==============================] - 1s 2ms/step - loss: 0.3175 - accuracy: 0.8684\n",
      "Epoch 35/100\n",
      "266/266 [==============================] - 1s 2ms/step - loss: 0.3160 - accuracy: 0.8701\n",
      "Epoch 36/100\n",
      "266/266 [==============================] - 1s 2ms/step - loss: 0.3144 - accuracy: 0.8681\n",
      "Epoch 37/100\n",
      "266/266 [==============================] - 1s 3ms/step - loss: 0.3133 - accuracy: 0.8715\n",
      "Epoch 38/100\n",
      "266/266 [==============================] - 1s 3ms/step - loss: 0.3128 - accuracy: 0.8692\n",
      "Epoch 39/100\n",
      "266/266 [==============================] - 1s 5ms/step - loss: 0.3129 - accuracy: 0.8699\n",
      "Epoch 40/100\n",
      "266/266 [==============================] - 1s 3ms/step - loss: 0.3124 - accuracy: 0.8698\n",
      "Epoch 41/100\n",
      "266/266 [==============================] - 1s 2ms/step - loss: 0.3104 - accuracy: 0.8707\n",
      "Epoch 42/100\n",
      "266/266 [==============================] - 1s 3ms/step - loss: 0.3093 - accuracy: 0.8715\n",
      "Epoch 43/100\n",
      "266/266 [==============================] - 1s 2ms/step - loss: 0.3071 - accuracy: 0.8725\n",
      "Epoch 44/100\n",
      "266/266 [==============================] - 1s 2ms/step - loss: 0.3070 - accuracy: 0.8721\n",
      "Epoch 45/100\n",
      "266/266 [==============================] - 1s 2ms/step - loss: 0.3061 - accuracy: 0.8734\n",
      "Epoch 46/100\n",
      "266/266 [==============================] - 1s 2ms/step - loss: 0.3053 - accuracy: 0.8715\n",
      "Epoch 47/100\n",
      "266/266 [==============================] - 1s 2ms/step - loss: 0.3046 - accuracy: 0.8745\n",
      "Epoch 48/100\n",
      "266/266 [==============================] - 1s 2ms/step - loss: 0.3029 - accuracy: 0.8735\n",
      "Epoch 49/100\n",
      "266/266 [==============================] - 1s 2ms/step - loss: 0.3017 - accuracy: 0.8756\n",
      "Epoch 50/100\n",
      "266/266 [==============================] - 1s 2ms/step - loss: 0.3021 - accuracy: 0.8746\n",
      "Epoch 51/100\n",
      "266/266 [==============================] - 1s 2ms/step - loss: 0.3006 - accuracy: 0.8751\n",
      "Epoch 52/100\n",
      "266/266 [==============================] - 1s 2ms/step - loss: 0.2998 - accuracy: 0.8749\n",
      "Epoch 53/100\n",
      "266/266 [==============================] - 1s 2ms/step - loss: 0.2977 - accuracy: 0.8780\n",
      "Epoch 54/100\n",
      "266/266 [==============================] - 1s 2ms/step - loss: 0.2979 - accuracy: 0.8779\n",
      "Epoch 55/100\n",
      "266/266 [==============================] - 1s 2ms/step - loss: 0.2977 - accuracy: 0.8785\n",
      "Epoch 56/100\n",
      "266/266 [==============================] - 1s 2ms/step - loss: 0.2955 - accuracy: 0.8787\n",
      "Epoch 57/100\n",
      "266/266 [==============================] - 1s 2ms/step - loss: 0.2951 - accuracy: 0.8785\n",
      "Epoch 58/100\n",
      "266/266 [==============================] - 1s 2ms/step - loss: 0.2944 - accuracy: 0.8769\n",
      "Epoch 59/100\n",
      "266/266 [==============================] - 1s 2ms/step - loss: 0.2939 - accuracy: 0.8773\n",
      "Epoch 60/100\n",
      "266/266 [==============================] - 1s 2ms/step - loss: 0.2903 - accuracy: 0.8804\n",
      "Epoch 61/100\n",
      "266/266 [==============================] - 1s 2ms/step - loss: 0.2901 - accuracy: 0.8782\n",
      "Epoch 62/100\n",
      "266/266 [==============================] - 1s 2ms/step - loss: 0.2882 - accuracy: 0.8819\n",
      "Epoch 63/100\n",
      "266/266 [==============================] - 1s 2ms/step - loss: 0.2878 - accuracy: 0.8800\n",
      "Epoch 64/100\n",
      "266/266 [==============================] - 1s 2ms/step - loss: 0.2892 - accuracy: 0.8798\n",
      "Epoch 65/100\n",
      "266/266 [==============================] - 1s 2ms/step - loss: 0.2848 - accuracy: 0.8827\n",
      "Epoch 66/100\n",
      "266/266 [==============================] - 1s 2ms/step - loss: 0.2852 - accuracy: 0.8822\n",
      "Epoch 67/100\n",
      "266/266 [==============================] - 1s 2ms/step - loss: 0.2841 - accuracy: 0.8813\n",
      "Epoch 68/100\n",
      "266/266 [==============================] - 1s 2ms/step - loss: 0.2834 - accuracy: 0.8798\n",
      "Epoch 69/100\n",
      "266/266 [==============================] - 1s 2ms/step - loss: 0.2817 - accuracy: 0.8831\n",
      "Epoch 70/100\n",
      "266/266 [==============================] - 1s 2ms/step - loss: 0.2809 - accuracy: 0.8827\n",
      "Epoch 71/100\n",
      "266/266 [==============================] - 1s 2ms/step - loss: 0.2798 - accuracy: 0.8828\n",
      "Epoch 72/100\n",
      "266/266 [==============================] - 1s 2ms/step - loss: 0.2788 - accuracy: 0.8848\n",
      "Epoch 73/100\n",
      "266/266 [==============================] - 1s 2ms/step - loss: 0.2772 - accuracy: 0.8842\n",
      "Epoch 74/100\n",
      "266/266 [==============================] - 1s 2ms/step - loss: 0.2786 - accuracy: 0.8847\n",
      "Epoch 75/100\n",
      "266/266 [==============================] - 1s 2ms/step - loss: 0.2753 - accuracy: 0.8854\n",
      "Epoch 76/100\n",
      "266/266 [==============================] - 1s 2ms/step - loss: 0.2748 - accuracy: 0.8874\n",
      "Epoch 77/100\n",
      "266/266 [==============================] - 1s 2ms/step - loss: 0.2745 - accuracy: 0.8853\n",
      "Epoch 78/100\n",
      "266/266 [==============================] - 1s 2ms/step - loss: 0.2737 - accuracy: 0.8893\n",
      "Epoch 79/100\n",
      "266/266 [==============================] - 1s 2ms/step - loss: 0.2732 - accuracy: 0.8872\n",
      "Epoch 80/100\n",
      "266/266 [==============================] - 1s 2ms/step - loss: 0.2721 - accuracy: 0.8865\n",
      "Epoch 81/100\n"
     ]
    },
    {
     "name": "stdout",
     "output_type": "stream",
     "text": [
      "266/266 [==============================] - 1s 2ms/step - loss: 0.2696 - accuracy: 0.8885\n",
      "Epoch 82/100\n",
      "266/266 [==============================] - 1s 2ms/step - loss: 0.2688 - accuracy: 0.8878\n",
      "Epoch 83/100\n",
      "266/266 [==============================] - 1s 2ms/step - loss: 0.2684 - accuracy: 0.8886\n",
      "Epoch 84/100\n",
      "266/266 [==============================] - 1s 2ms/step - loss: 0.2672 - accuracy: 0.8881\n",
      "Epoch 85/100\n",
      "266/266 [==============================] - 1s 2ms/step - loss: 0.2659 - accuracy: 0.8898\n",
      "Epoch 86/100\n",
      "266/266 [==============================] - 1s 2ms/step - loss: 0.2649 - accuracy: 0.8902\n",
      "Epoch 87/100\n",
      "266/266 [==============================] - 1s 2ms/step - loss: 0.2642 - accuracy: 0.8922\n",
      "Epoch 88/100\n",
      "266/266 [==============================] - 1s 2ms/step - loss: 0.2642 - accuracy: 0.8908\n",
      "Epoch 89/100\n",
      "266/266 [==============================] - 1s 2ms/step - loss: 0.2618 - accuracy: 0.8924\n",
      "Epoch 90/100\n",
      "266/266 [==============================] - 1s 2ms/step - loss: 0.2627 - accuracy: 0.8907\n",
      "Epoch 91/100\n",
      "266/266 [==============================] - 1s 2ms/step - loss: 0.2607 - accuracy: 0.8909\n",
      "Epoch 92/100\n",
      "266/266 [==============================] - 1s 2ms/step - loss: 0.2578 - accuracy: 0.8936\n",
      "Epoch 93/100\n",
      "266/266 [==============================] - 1s 2ms/step - loss: 0.2565 - accuracy: 0.8959\n",
      "Epoch 94/100\n",
      "266/266 [==============================] - 1s 2ms/step - loss: 0.2561 - accuracy: 0.8908\n",
      "Epoch 95/100\n",
      "266/266 [==============================] - 1s 2ms/step - loss: 0.2573 - accuracy: 0.8935\n",
      "Epoch 96/100\n",
      "266/266 [==============================] - 1s 2ms/step - loss: 0.2548 - accuracy: 0.8946\n",
      "Epoch 97/100\n",
      "266/266 [==============================] - 0s 2ms/step - loss: 0.2539 - accuracy: 0.8946\n",
      "Epoch 98/100\n",
      "266/266 [==============================] - 0s 2ms/step - loss: 0.2520 - accuracy: 0.8949\n",
      "Epoch 99/100\n",
      "266/266 [==============================] - 0s 2ms/step - loss: 0.2515 - accuracy: 0.8967\n",
      "Epoch 100/100\n",
      "266/266 [==============================] - 0s 2ms/step - loss: 0.2516 - accuracy: 0.8945\n"
     ]
    },
    {
     "data": {
      "text/plain": [
       "<keras.callbacks.History at 0x228966c9088>"
      ]
     },
     "execution_count": 17,
     "metadata": {},
     "output_type": "execute_result"
    }
   ],
   "source": [
    "model.fit(X_train , y_train , epochs = 100)"
   ]
  },
  {
   "cell_type": "code",
   "execution_count": 19,
   "metadata": {
    "colab": {
     "base_uri": "https://localhost:8080/"
    },
    "id": "48yO9h9emPhf",
    "outputId": "efcec634-5765-4e70-c524-4d882a803127"
   },
   "outputs": [
    {
     "name": "stdout",
     "output_type": "stream",
     "text": [
      "47/47 [==============================] - 0s 4ms/step - loss: 0.4364 - accuracy: 0.8413\n"
     ]
    },
    {
     "data": {
      "text/plain": [
       "[0.43636780977249146, 0.8413333296775818]"
      ]
     },
     "execution_count": 19,
     "metadata": {},
     "output_type": "execute_result"
    }
   ],
   "source": [
    "ev = model.evaluate(X_test , y_test)\n",
    "ev"
   ]
  },
  {
   "cell_type": "code",
   "execution_count": 21,
   "metadata": {},
   "outputs": [
    {
     "data": {
      "text/plain": [
       "0.8413333296775818"
      ]
     },
     "execution_count": 21,
     "metadata": {},
     "output_type": "execute_result"
    }
   ],
   "source": [
    "ev[1]"
   ]
  },
  {
   "cell_type": "code",
   "execution_count": 22,
   "metadata": {
    "colab": {
     "base_uri": "https://localhost:8080/",
     "height": 206
    },
    "id": "tyo91EE2pvmq",
    "outputId": "c630a3b7-ccf1-4714-fde6-b5000df78bc6"
   },
   "outputs": [
    {
     "data": {
      "text/html": [
       "<div>\n",
       "<style scoped>\n",
       "    .dataframe tbody tr th:only-of-type {\n",
       "        vertical-align: middle;\n",
       "    }\n",
       "\n",
       "    .dataframe tbody tr th {\n",
       "        vertical-align: top;\n",
       "    }\n",
       "\n",
       "    .dataframe thead th {\n",
       "        text-align: right;\n",
       "    }\n",
       "</style>\n",
       "<table border=\"1\" class=\"dataframe\">\n",
       "  <thead>\n",
       "    <tr style=\"text-align: right;\">\n",
       "      <th></th>\n",
       "      <th>RowNumber</th>\n",
       "      <th>CustomerId</th>\n",
       "      <th>CreditScore</th>\n",
       "      <th>Age</th>\n",
       "      <th>Tenure</th>\n",
       "      <th>Balance</th>\n",
       "      <th>NumOfProducts</th>\n",
       "      <th>HasCrCard</th>\n",
       "      <th>IsActiveMember</th>\n",
       "      <th>EstimatedSalary</th>\n",
       "    </tr>\n",
       "  </thead>\n",
       "  <tbody>\n",
       "    <tr>\n",
       "      <th>2077</th>\n",
       "      <td>-1.012384</td>\n",
       "      <td>0.749346</td>\n",
       "      <td>-0.843560</td>\n",
       "      <td>-0.469311</td>\n",
       "      <td>0.341352</td>\n",
       "      <td>1.095765</td>\n",
       "      <td>-0.911583</td>\n",
       "      <td>-1.547768</td>\n",
       "      <td>-1.030670</td>\n",
       "      <td>1.677431</td>\n",
       "    </tr>\n",
       "    <tr>\n",
       "      <th>9207</th>\n",
       "      <td>1.457521</td>\n",
       "      <td>-0.655761</td>\n",
       "      <td>0.325625</td>\n",
       "      <td>1.247053</td>\n",
       "      <td>-0.004426</td>\n",
       "      <td>0.579934</td>\n",
       "      <td>-0.911583</td>\n",
       "      <td>0.646092</td>\n",
       "      <td>-1.030670</td>\n",
       "      <td>-1.373819</td>\n",
       "    </tr>\n",
       "    <tr>\n",
       "      <th>6755</th>\n",
       "      <td>0.608123</td>\n",
       "      <td>-0.103674</td>\n",
       "      <td>1.670706</td>\n",
       "      <td>-0.087897</td>\n",
       "      <td>-0.695982</td>\n",
       "      <td>0.811483</td>\n",
       "      <td>0.807737</td>\n",
       "      <td>0.646092</td>\n",
       "      <td>0.970243</td>\n",
       "      <td>1.299524</td>\n",
       "    </tr>\n",
       "    <tr>\n",
       "      <th>6704</th>\n",
       "      <td>0.590456</td>\n",
       "      <td>-0.125987</td>\n",
       "      <td>-2.219681</td>\n",
       "      <td>0.579578</td>\n",
       "      <td>-0.695982</td>\n",
       "      <td>0.446407</td>\n",
       "      <td>0.807737</td>\n",
       "      <td>0.646092</td>\n",
       "      <td>0.970243</td>\n",
       "      <td>1.451112</td>\n",
       "    </tr>\n",
       "    <tr>\n",
       "      <th>9528</th>\n",
       "      <td>1.568718</td>\n",
       "      <td>-1.480255</td>\n",
       "      <td>0.915392</td>\n",
       "      <td>-0.469311</td>\n",
       "      <td>1.378686</td>\n",
       "      <td>-1.225848</td>\n",
       "      <td>-0.911583</td>\n",
       "      <td>0.646092</td>\n",
       "      <td>-1.030670</td>\n",
       "      <td>-0.686968</td>\n",
       "    </tr>\n",
       "  </tbody>\n",
       "</table>\n",
       "</div>"
      ],
      "text/plain": [
       "      RowNumber  CustomerId  CreditScore       Age    Tenure   Balance  \\\n",
       "2077  -1.012384    0.749346    -0.843560 -0.469311  0.341352  1.095765   \n",
       "9207   1.457521   -0.655761     0.325625  1.247053 -0.004426  0.579934   \n",
       "6755   0.608123   -0.103674     1.670706 -0.087897 -0.695982  0.811483   \n",
       "6704   0.590456   -0.125987    -2.219681  0.579578 -0.695982  0.446407   \n",
       "9528   1.568718   -1.480255     0.915392 -0.469311  1.378686 -1.225848   \n",
       "\n",
       "      NumOfProducts  HasCrCard  IsActiveMember  EstimatedSalary  \n",
       "2077      -0.911583  -1.547768       -1.030670         1.677431  \n",
       "9207      -0.911583   0.646092       -1.030670        -1.373819  \n",
       "6755       0.807737   0.646092        0.970243         1.299524  \n",
       "6704       0.807737   0.646092        0.970243         1.451112  \n",
       "9528      -0.911583   0.646092       -1.030670        -0.686968  "
      ]
     },
     "execution_count": 22,
     "metadata": {},
     "output_type": "execute_result"
    }
   ],
   "source": [
    "X_test.head()"
   ]
  },
  {
   "cell_type": "code",
   "execution_count": 23,
   "metadata": {
    "colab": {
     "base_uri": "https://localhost:8080/"
    },
    "id": "heZKpSbVl3L0",
    "outputId": "0ee7610c-2d3c-4c3e-c5a4-f4cf973993bc"
   },
   "outputs": [
    {
     "name": "stdout",
     "output_type": "stream",
     "text": [
      "47/47 [==============================] - 0s 2ms/step\n"
     ]
    },
    {
     "data": {
      "text/plain": [
       "array([[4.0072389e-02],\n",
       "       [8.9276296e-01],\n",
       "       [1.7814079e-04],\n",
       "       [4.4077098e-01],\n",
       "       [2.5370234e-01]], dtype=float32)"
      ]
     },
     "execution_count": 23,
     "metadata": {},
     "output_type": "execute_result"
    }
   ],
   "source": [
    "yp = model.predict(X_test)\n",
    "yp[ : 5]  ## y_test predicted value\n",
    "\n",
    "## 0.5 greater means 1 ; lesser mean zero "
   ]
  },
  {
   "cell_type": "code",
   "execution_count": 26,
   "metadata": {
    "colab": {
     "base_uri": "https://localhost:8080/"
    },
    "id": "Ltbp92rh97vs",
    "outputId": "7cdbd521-329b-4a23-f687-a2a9fa92fd2d"
   },
   "outputs": [
    {
     "data": {
      "text/plain": [
       "(1, 0)"
      ]
     },
     "execution_count": 26,
     "metadata": {},
     "output_type": "execute_result"
    }
   ],
   "source": [
    "round(8.9276296e-01) , round(4.0072389e-02)"
   ]
  },
  {
   "cell_type": "code",
   "execution_count": 24,
   "metadata": {
    "colab": {
     "base_uri": "https://localhost:8080/"
    },
    "id": "VHjJQUrql_hF",
    "outputId": "5dba514e-a32e-492c-cc8e-0bcc4b3a1d34"
   },
   "outputs": [
    {
     "data": {
      "text/plain": [
       "2077    0\n",
       "9207    1\n",
       "6755    0\n",
       "6704    1\n",
       "9528    0\n",
       "Name: Exited, dtype: int64"
      ]
     },
     "execution_count": 24,
     "metadata": {},
     "output_type": "execute_result"
    }
   ],
   "source": [
    "## actual value \n",
    "y_test[: 5]  ## out of 5 4 is predicted correctly "
   ]
  },
  {
   "cell_type": "markdown",
   "metadata": {
    "id": "1dtLtYWrprCG"
   },
   "source": [
    "## Use MLFlow"
   ]
  },
  {
   "cell_type": "code",
   "execution_count": 27,
   "metadata": {},
   "outputs": [],
   "source": [
    "import mlflow\n",
    "import mlflow.tensorflow"
   ]
  },
  {
   "cell_type": "code",
   "execution_count": 29,
   "metadata": {},
   "outputs": [
    {
     "name": "stdout",
     "output_type": "stream",
     "text": [
      "47/47 [==============================] - 0s 2ms/step - loss: 0.4364 - accuracy: 0.8413\n",
      "0.43636780977249146\n",
      "0.8413333296775818\n"
     ]
    }
   ],
   "source": [
    "loss , acc = model.evaluate(X_test , y_test)\n",
    "print(loss)\n",
    "print(acc)"
   ]
  },
  {
   "cell_type": "code",
   "execution_count": 38,
   "metadata": {},
   "outputs": [
    {
     "name": "stdout",
     "output_type": "stream",
     "text": [
      "47/47 [==============================] - 0s 2ms/step - loss: 0.4364 - accuracy: 0.8413\n"
     ]
    },
    {
     "name": "stderr",
     "output_type": "stream",
     "text": [
      "WARNING:absl:Found untraced functions such as _update_step_xla while saving (showing 1 of 1). These functions will not be directly callable after loading.\n"
     ]
    },
    {
     "name": "stdout",
     "output_type": "stream",
     "text": [
      "INFO:tensorflow:Assets written to: C:\\Users\\admin\\AppData\\Local\\Temp\\tmp0fwiac1d\\model\\data\\model\\assets\n"
     ]
    },
    {
     "name": "stderr",
     "output_type": "stream",
     "text": [
      "INFO:tensorflow:Assets written to: C:\\Users\\admin\\AppData\\Local\\Temp\\tmp0fwiac1d\\model\\data\\model\\assets\n"
     ]
    },
    {
     "name": "stdout",
     "output_type": "stream",
     "text": [
      "47/47 [==============================] - 0s 2ms/step\n"
     ]
    }
   ],
   "source": [
    "with mlflow.start_run() as run:\n",
    "    loss , acc = model.evaluate(X_test , y_test)\n",
    "    mlflow.log_metric(f\"Binary Cross Entropy_\" , loss)\n",
    "    mlflow.log_metric(f\"Predicted Accuracy is_\" , acc)\n",
    "    mlflow.keras.log_model(model , \"model\")\n",
    "    model_path = mlflow.get_artifact_uri(\"model\")\n",
    "    loaded_tf_model = mlflow.keras.load_model(model_path)\n",
    "    loaded_tf_model.predict(X_test)"
   ]
  },
  {
   "cell_type": "code",
   "execution_count": 5,
   "metadata": {},
   "outputs": [],
   "source": [
    "import yaml\n",
    "def read_yaml(path_to_yaml: str) -> dict:\n",
    "    with open(path_to_yaml) as yaml_file:\n",
    "        content = yaml.safe_load(yaml_file)\n",
    "    return content"
   ]
  },
  {
   "cell_type": "code",
   "execution_count": 10,
   "metadata": {},
   "outputs": [
    {
     "data": {
      "text/plain": [
       "{'artifacts': {'base_data': 'artifacts/data_df.pickle',\n",
       "  'artifacts_dir': 'artifacts',\n",
       "  'model_config_dir': 'model_config',\n",
       "  'test_loader_bin': 'test_loader.bin',\n",
       "  'train_loader_bin': 'train_loader.bin'},\n",
       " 'source_data_dirs': {'data': 'data/Churn_Modelling.csv'},\n",
       " 'params': {'BATCH_SIZE': 32,\n",
       "  'TEST_BATCH_SIZE': 1000,\n",
       "  'LR': 0.01,\n",
       "  'GAMMA': 0.7,\n",
       "  'SEED': 42,\n",
       "  'LOG_INTERVAL': 10,\n",
       "  'EPOCHS': 1}}"
      ]
     },
     "execution_count": 10,
     "metadata": {},
     "output_type": "execute_result"
    }
   ],
   "source": [
    "read_yaml(\"../configs/config.yaml\")"
   ]
  },
  {
   "cell_type": "code",
   "execution_count": 11,
   "metadata": {},
   "outputs": [],
   "source": [
    "import pickle\n",
    "with open(r\"../artifacts/data_df.pickle\", \"rb\") as input_file:\n",
    "    e = pickle.load(input_file)"
   ]
  },
  {
   "cell_type": "code",
   "execution_count": 13,
   "metadata": {},
   "outputs": [
    {
     "name": "stdout",
     "output_type": "stream",
     "text": [
      "<class 'pandas.core.frame.DataFrame'>\n"
     ]
    },
    {
     "data": {
      "text/html": [
       "<div>\n",
       "<style scoped>\n",
       "    .dataframe tbody tr th:only-of-type {\n",
       "        vertical-align: middle;\n",
       "    }\n",
       "\n",
       "    .dataframe tbody tr th {\n",
       "        vertical-align: top;\n",
       "    }\n",
       "\n",
       "    .dataframe thead th {\n",
       "        text-align: right;\n",
       "    }\n",
       "</style>\n",
       "<table border=\"1\" class=\"dataframe\">\n",
       "  <thead>\n",
       "    <tr style=\"text-align: right;\">\n",
       "      <th></th>\n",
       "      <th>RowNumber</th>\n",
       "      <th>CustomerId</th>\n",
       "      <th>Surname</th>\n",
       "      <th>CreditScore</th>\n",
       "      <th>Geography</th>\n",
       "      <th>Gender</th>\n",
       "      <th>Age</th>\n",
       "      <th>Tenure</th>\n",
       "      <th>Balance</th>\n",
       "      <th>NumOfProducts</th>\n",
       "      <th>HasCrCard</th>\n",
       "      <th>IsActiveMember</th>\n",
       "      <th>EstimatedSalary</th>\n",
       "      <th>Exited</th>\n",
       "    </tr>\n",
       "  </thead>\n",
       "  <tbody>\n",
       "    <tr>\n",
       "      <th>0</th>\n",
       "      <td>1</td>\n",
       "      <td>15634602</td>\n",
       "      <td>Hargrave</td>\n",
       "      <td>619</td>\n",
       "      <td>France</td>\n",
       "      <td>Female</td>\n",
       "      <td>42</td>\n",
       "      <td>2</td>\n",
       "      <td>0.00</td>\n",
       "      <td>1</td>\n",
       "      <td>1</td>\n",
       "      <td>1</td>\n",
       "      <td>101348.88</td>\n",
       "      <td>1</td>\n",
       "    </tr>\n",
       "    <tr>\n",
       "      <th>1</th>\n",
       "      <td>2</td>\n",
       "      <td>15647311</td>\n",
       "      <td>Hill</td>\n",
       "      <td>608</td>\n",
       "      <td>Spain</td>\n",
       "      <td>Female</td>\n",
       "      <td>41</td>\n",
       "      <td>1</td>\n",
       "      <td>83807.86</td>\n",
       "      <td>1</td>\n",
       "      <td>0</td>\n",
       "      <td>1</td>\n",
       "      <td>112542.58</td>\n",
       "      <td>0</td>\n",
       "    </tr>\n",
       "    <tr>\n",
       "      <th>2</th>\n",
       "      <td>3</td>\n",
       "      <td>15619304</td>\n",
       "      <td>Onio</td>\n",
       "      <td>502</td>\n",
       "      <td>France</td>\n",
       "      <td>Female</td>\n",
       "      <td>42</td>\n",
       "      <td>8</td>\n",
       "      <td>159660.80</td>\n",
       "      <td>3</td>\n",
       "      <td>1</td>\n",
       "      <td>0</td>\n",
       "      <td>113931.57</td>\n",
       "      <td>1</td>\n",
       "    </tr>\n",
       "    <tr>\n",
       "      <th>3</th>\n",
       "      <td>4</td>\n",
       "      <td>15701354</td>\n",
       "      <td>Boni</td>\n",
       "      <td>699</td>\n",
       "      <td>France</td>\n",
       "      <td>Female</td>\n",
       "      <td>39</td>\n",
       "      <td>1</td>\n",
       "      <td>0.00</td>\n",
       "      <td>2</td>\n",
       "      <td>0</td>\n",
       "      <td>0</td>\n",
       "      <td>93826.63</td>\n",
       "      <td>0</td>\n",
       "    </tr>\n",
       "    <tr>\n",
       "      <th>4</th>\n",
       "      <td>5</td>\n",
       "      <td>15737888</td>\n",
       "      <td>Mitchell</td>\n",
       "      <td>850</td>\n",
       "      <td>Spain</td>\n",
       "      <td>Female</td>\n",
       "      <td>43</td>\n",
       "      <td>2</td>\n",
       "      <td>125510.82</td>\n",
       "      <td>1</td>\n",
       "      <td>1</td>\n",
       "      <td>1</td>\n",
       "      <td>79084.10</td>\n",
       "      <td>0</td>\n",
       "    </tr>\n",
       "  </tbody>\n",
       "</table>\n",
       "</div>"
      ],
      "text/plain": [
       "   RowNumber  CustomerId   Surname  CreditScore Geography  Gender  Age  \\\n",
       "0          1    15634602  Hargrave          619    France  Female   42   \n",
       "1          2    15647311      Hill          608     Spain  Female   41   \n",
       "2          3    15619304      Onio          502    France  Female   42   \n",
       "3          4    15701354      Boni          699    France  Female   39   \n",
       "4          5    15737888  Mitchell          850     Spain  Female   43   \n",
       "\n",
       "   Tenure    Balance  NumOfProducts  HasCrCard  IsActiveMember  \\\n",
       "0       2       0.00              1          1               1   \n",
       "1       1   83807.86              1          0               1   \n",
       "2       8  159660.80              3          1               0   \n",
       "3       1       0.00              2          0               0   \n",
       "4       2  125510.82              1          1               1   \n",
       "\n",
       "   EstimatedSalary  Exited  \n",
       "0        101348.88       1  \n",
       "1        112542.58       0  \n",
       "2        113931.57       1  \n",
       "3         93826.63       0  \n",
       "4         79084.10       0  "
      ]
     },
     "execution_count": 13,
     "metadata": {},
     "output_type": "execute_result"
    }
   ],
   "source": [
    "print(type(e))\n",
    "e.head()"
   ]
  },
  {
   "cell_type": "code",
   "execution_count": 14,
   "metadata": {},
   "outputs": [
    {
     "data": {
      "text/html": [
       "<div>\n",
       "<style scoped>\n",
       "    .dataframe tbody tr th:only-of-type {\n",
       "        vertical-align: middle;\n",
       "    }\n",
       "\n",
       "    .dataframe tbody tr th {\n",
       "        vertical-align: top;\n",
       "    }\n",
       "\n",
       "    .dataframe thead th {\n",
       "        text-align: right;\n",
       "    }\n",
       "</style>\n",
       "<table border=\"1\" class=\"dataframe\">\n",
       "  <thead>\n",
       "    <tr style=\"text-align: right;\">\n",
       "      <th></th>\n",
       "      <th>RowNumber</th>\n",
       "      <th>CustomerId</th>\n",
       "      <th>Surname</th>\n",
       "      <th>CreditScore</th>\n",
       "      <th>Geography</th>\n",
       "      <th>Gender</th>\n",
       "      <th>Age</th>\n",
       "      <th>Tenure</th>\n",
       "      <th>Balance</th>\n",
       "      <th>NumOfProducts</th>\n",
       "      <th>HasCrCard</th>\n",
       "      <th>IsActiveMember</th>\n",
       "      <th>EstimatedSalary</th>\n",
       "      <th>Exited</th>\n",
       "    </tr>\n",
       "  </thead>\n",
       "  <tbody>\n",
       "    <tr>\n",
       "      <th>0</th>\n",
       "      <td>1</td>\n",
       "      <td>15634602</td>\n",
       "      <td>Hargrave</td>\n",
       "      <td>619</td>\n",
       "      <td>France</td>\n",
       "      <td>Female</td>\n",
       "      <td>42</td>\n",
       "      <td>2</td>\n",
       "      <td>0.00</td>\n",
       "      <td>1</td>\n",
       "      <td>1</td>\n",
       "      <td>1</td>\n",
       "      <td>101348.88</td>\n",
       "      <td>1</td>\n",
       "    </tr>\n",
       "    <tr>\n",
       "      <th>1</th>\n",
       "      <td>2</td>\n",
       "      <td>15647311</td>\n",
       "      <td>Hill</td>\n",
       "      <td>608</td>\n",
       "      <td>Spain</td>\n",
       "      <td>Female</td>\n",
       "      <td>41</td>\n",
       "      <td>1</td>\n",
       "      <td>83807.86</td>\n",
       "      <td>1</td>\n",
       "      <td>0</td>\n",
       "      <td>1</td>\n",
       "      <td>112542.58</td>\n",
       "      <td>0</td>\n",
       "    </tr>\n",
       "    <tr>\n",
       "      <th>2</th>\n",
       "      <td>3</td>\n",
       "      <td>15619304</td>\n",
       "      <td>Onio</td>\n",
       "      <td>502</td>\n",
       "      <td>France</td>\n",
       "      <td>Female</td>\n",
       "      <td>42</td>\n",
       "      <td>8</td>\n",
       "      <td>159660.80</td>\n",
       "      <td>3</td>\n",
       "      <td>1</td>\n",
       "      <td>0</td>\n",
       "      <td>113931.57</td>\n",
       "      <td>1</td>\n",
       "    </tr>\n",
       "    <tr>\n",
       "      <th>3</th>\n",
       "      <td>4</td>\n",
       "      <td>15701354</td>\n",
       "      <td>Boni</td>\n",
       "      <td>699</td>\n",
       "      <td>France</td>\n",
       "      <td>Female</td>\n",
       "      <td>39</td>\n",
       "      <td>1</td>\n",
       "      <td>0.00</td>\n",
       "      <td>2</td>\n",
       "      <td>0</td>\n",
       "      <td>0</td>\n",
       "      <td>93826.63</td>\n",
       "      <td>0</td>\n",
       "    </tr>\n",
       "    <tr>\n",
       "      <th>4</th>\n",
       "      <td>5</td>\n",
       "      <td>15737888</td>\n",
       "      <td>Mitchell</td>\n",
       "      <td>850</td>\n",
       "      <td>Spain</td>\n",
       "      <td>Female</td>\n",
       "      <td>43</td>\n",
       "      <td>2</td>\n",
       "      <td>125510.82</td>\n",
       "      <td>1</td>\n",
       "      <td>1</td>\n",
       "      <td>1</td>\n",
       "      <td>79084.10</td>\n",
       "      <td>0</td>\n",
       "    </tr>\n",
       "    <tr>\n",
       "      <th>5</th>\n",
       "      <td>6</td>\n",
       "      <td>15574012</td>\n",
       "      <td>Chu</td>\n",
       "      <td>645</td>\n",
       "      <td>Spain</td>\n",
       "      <td>Male</td>\n",
       "      <td>44</td>\n",
       "      <td>8</td>\n",
       "      <td>113755.78</td>\n",
       "      <td>2</td>\n",
       "      <td>1</td>\n",
       "      <td>0</td>\n",
       "      <td>149756.71</td>\n",
       "      <td>1</td>\n",
       "    </tr>\n",
       "    <tr>\n",
       "      <th>6</th>\n",
       "      <td>7</td>\n",
       "      <td>15592531</td>\n",
       "      <td>Bartlett</td>\n",
       "      <td>822</td>\n",
       "      <td>France</td>\n",
       "      <td>Male</td>\n",
       "      <td>50</td>\n",
       "      <td>7</td>\n",
       "      <td>0.00</td>\n",
       "      <td>2</td>\n",
       "      <td>1</td>\n",
       "      <td>1</td>\n",
       "      <td>10062.80</td>\n",
       "      <td>0</td>\n",
       "    </tr>\n",
       "    <tr>\n",
       "      <th>7</th>\n",
       "      <td>8</td>\n",
       "      <td>15656148</td>\n",
       "      <td>Obinna</td>\n",
       "      <td>376</td>\n",
       "      <td>Germany</td>\n",
       "      <td>Female</td>\n",
       "      <td>29</td>\n",
       "      <td>4</td>\n",
       "      <td>115046.74</td>\n",
       "      <td>4</td>\n",
       "      <td>1</td>\n",
       "      <td>0</td>\n",
       "      <td>119346.88</td>\n",
       "      <td>1</td>\n",
       "    </tr>\n",
       "    <tr>\n",
       "      <th>8</th>\n",
       "      <td>9</td>\n",
       "      <td>15792365</td>\n",
       "      <td>He</td>\n",
       "      <td>501</td>\n",
       "      <td>France</td>\n",
       "      <td>Male</td>\n",
       "      <td>44</td>\n",
       "      <td>4</td>\n",
       "      <td>142051.07</td>\n",
       "      <td>2</td>\n",
       "      <td>0</td>\n",
       "      <td>1</td>\n",
       "      <td>74940.50</td>\n",
       "      <td>0</td>\n",
       "    </tr>\n",
       "    <tr>\n",
       "      <th>9</th>\n",
       "      <td>10</td>\n",
       "      <td>15592389</td>\n",
       "      <td>H?</td>\n",
       "      <td>684</td>\n",
       "      <td>France</td>\n",
       "      <td>Male</td>\n",
       "      <td>27</td>\n",
       "      <td>2</td>\n",
       "      <td>134603.88</td>\n",
       "      <td>1</td>\n",
       "      <td>1</td>\n",
       "      <td>1</td>\n",
       "      <td>71725.73</td>\n",
       "      <td>0</td>\n",
       "    </tr>\n",
       "  </tbody>\n",
       "</table>\n",
       "</div>"
      ],
      "text/plain": [
       "   RowNumber  CustomerId   Surname  CreditScore Geography  Gender  Age  \\\n",
       "0          1    15634602  Hargrave          619    France  Female   42   \n",
       "1          2    15647311      Hill          608     Spain  Female   41   \n",
       "2          3    15619304      Onio          502    France  Female   42   \n",
       "3          4    15701354      Boni          699    France  Female   39   \n",
       "4          5    15737888  Mitchell          850     Spain  Female   43   \n",
       "5          6    15574012       Chu          645     Spain    Male   44   \n",
       "6          7    15592531  Bartlett          822    France    Male   50   \n",
       "7          8    15656148    Obinna          376   Germany  Female   29   \n",
       "8          9    15792365        He          501    France    Male   44   \n",
       "9         10    15592389        H?          684    France    Male   27   \n",
       "\n",
       "   Tenure    Balance  NumOfProducts  HasCrCard  IsActiveMember  \\\n",
       "0       2       0.00              1          1               1   \n",
       "1       1   83807.86              1          0               1   \n",
       "2       8  159660.80              3          1               0   \n",
       "3       1       0.00              2          0               0   \n",
       "4       2  125510.82              1          1               1   \n",
       "5       8  113755.78              2          1               0   \n",
       "6       7       0.00              2          1               1   \n",
       "7       4  115046.74              4          1               0   \n",
       "8       4  142051.07              2          0               1   \n",
       "9       2  134603.88              1          1               1   \n",
       "\n",
       "   EstimatedSalary  Exited  \n",
       "0        101348.88       1  \n",
       "1        112542.58       0  \n",
       "2        113931.57       1  \n",
       "3         93826.63       0  \n",
       "4         79084.10       0  \n",
       "5        149756.71       1  \n",
       "6         10062.80       0  \n",
       "7        119346.88       1  \n",
       "8         74940.50       0  \n",
       "9         71725.73       0  "
      ]
     },
     "execution_count": 14,
     "metadata": {},
     "output_type": "execute_result"
    }
   ],
   "source": [
    "e[:10]"
   ]
  },
  {
   "cell_type": "code",
   "execution_count": 17,
   "metadata": {},
   "outputs": [
    {
     "name": "stdout",
     "output_type": "stream",
     "text": [
      "Model: \"sequential\"\n",
      "_________________________________________________________________\n",
      " Layer (type)                Output Shape              Param #   \n",
      "=================================================================\n",
      " dense (Dense)               (None, 20)                220       \n",
      "                                                                 \n",
      " dense_1 (Dense)             (None, 215)               4515      \n",
      "                                                                 \n",
      " dense_2 (Dense)             (None, 1)                 216       \n",
      "                                                                 \n",
      "=================================================================\n",
      "Total params: 4,951\n",
      "Trainable params: 4,951\n",
      "Non-trainable params: 0\n",
      "_________________________________________________________________\n"
     ]
    }
   ],
   "source": [
    "model = tf.keras.models.load_model(\"../artifacts/model_ckpt.h5\")\n",
    "model.summary()"
   ]
  },
  {
   "cell_type": "code",
   "execution_count": null,
   "metadata": {},
   "outputs": [],
   "source": []
  }
 ],
 "metadata": {
  "accelerator": "GPU",
  "colab": {
   "provenance": []
  },
  "kernelspec": {
   "display_name": "Python 3",
   "language": "python",
   "name": "python3"
  },
  "language_info": {
   "codemirror_mode": {
    "name": "ipython",
    "version": 3
   },
   "file_extension": ".py",
   "mimetype": "text/x-python",
   "name": "python",
   "nbconvert_exporter": "python",
   "pygments_lexer": "ipython3",
   "version": "3.7.16"
  },
  "vscode": {
   "interpreter": {
    "hash": "cb1cb8ab3ac7a1f712ba7a515c03689acb8a5902d070274922e65ec2491c0915"
   }
  }
 },
 "nbformat": 4,
 "nbformat_minor": 1
}
